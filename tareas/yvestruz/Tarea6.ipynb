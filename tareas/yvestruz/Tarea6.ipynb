{
 "cells": [
  {
   "cell_type": "markdown",
   "metadata": {
    "slideshow": {
     "slide_type": "slide"
    }
   },
   "source": [
    "# Derivadas superiores"
   ]
  },
  {
   "cell_type": "markdown",
   "metadata": {},
   "source": [
    "Hasta ahora hemos visto que, usando diferenciación automática, podemos calcular la derivada de funciones de una variable esencialmente con un error del orden del epsilon de la máquina.\n",
    "\n",
    "La pregunta que abordaremos ahora, es cómo hacer para calcular la segunda derivada, y derivadas de orden superior."
   ]
  },
  {
   "cell_type": "markdown",
   "metadata": {
    "slideshow": {
     "slide_type": "subslide"
    }
   },
   "source": [
    "Una posibilidad, específica para el caso de la segunda derivada, es proceder como en el caso anterior, es decir, definir una *terna ordenada* donde la primer componente es el valor de la función en $x_0$, i.e., $f(x_0)$, el de la segunda es el valor de la primer derivada $f'(x_0)$, y la tercer componente tiene el valor de la segunda derivada, $f^{(2)}(x_0) = f''(x_0)$. \n"
   ]
  },
  {
   "cell_type": "markdown",
   "metadata": {
    "slideshow": {
     "slide_type": "subslide"
    }
   },
   "source": [
    "Con esta definición, las operaciones aritméticas vienen dadas por:\n",
    "\n",
    "\\begin{eqnarray}\n",
    "\\vec{u} + \\vec{v} & = & (u + v, \\quad u'+ v', \\quad u''+v''),\\\\\n",
    "\\vec{u} - \\vec{v} & = & (u - v, \\quad u'- v', \\quad u''-v''),\\\\\n",
    "\\vec{u} \\times \\vec{v} & = & (u v, \\quad u v' + u' v, \\quad u v'' + 2 u' v' + u'' v),\\\\\n",
    "\\frac{\\vec{u}}{\\vec{v}} & = & \\Big( \\frac{u}{v}, \\quad \\frac{u'-( u/v) v'}{v}, \\quad \n",
    "\\frac{u'' - 2 (u/v)' v' - (u/v)v'' }{v}\\Big).\\\\\n",
    "\\end{eqnarray}\n",
    "\n",
    "Claramente, este proceso es muy ineficiente para derivadas de orden aún más alto, dado que las expresiones se complican y es fácil cometer errores."
   ]
  },
  {
   "cell_type": "markdown",
   "metadata": {
    "slideshow": {
     "slide_type": "slide"
    }
   },
   "source": [
    "# Series de Taylor"
   ]
  },
  {
   "cell_type": "markdown",
   "metadata": {
    "slideshow": {
     "slide_type": "-"
    }
   },
   "source": [
    "El punto importante a recordar, es que las derivadas de orden superior de una función $f(x)$ en un punto $x_0$ están contenidas en el desarrollo de Taylor de la función entorno a ese punto. La suposición importante en esto es que $f(x)$ es suficientemente suave; por simplicidad supondremos que $f(x)$ es ${\\cal C}^\\infty$ y que estamos suficientemente cerca del punto $x_0$, i.e., $|x-x_0|\\ll 1$. \n"
   ]
  },
  {
   "cell_type": "markdown",
   "metadata": {
    "slideshow": {
     "slide_type": "subslide"
    }
   },
   "source": [
    "La serie de Taylor de $f(x)$ viene dada por\n",
    "\n",
    "\\begin{eqnarray}\n",
    "f(x) & = & f(x_0) + f^{(1)}(x_0) (x-x_0) + \\frac{f^{(2)}(x_0)}{2!} (x-x_0)^2 + \\dots + \\frac{f^{(k)}(x_0)}{k!} (x-x_0)^k + \\dots,\\\\\n",
    "& = & f_{[0]} + f_{[1]} (x-x_0) + f_{[2]} (x-x_0)^2 + \\dots + f_{[k]} (x-x_0)^k + \\dots,\\\\\n",
    "\\end{eqnarray}\n",
    "\n",
    "donde los coeficientes *normalizados* de Taylor $f_{[k]}$ que aparecen en la segunda línea de la ecuación anterior se definen como\n",
    "\n",
    "\\begin{equation}\n",
    "f_{[k]} = \\frac{f^{(k)}(x_0)}{k!} = \\frac{1}{k!}\\frac{{\\rm d}^k f}{{\\rm d}x^k}(x_0).\n",
    "\\end{equation}\n",
    "\n"
   ]
  },
  {
   "cell_type": "markdown",
   "metadata": {
    "slideshow": {
     "slide_type": "fragment"
    }
   },
   "source": [
    "Vale la pena **enfatizar** que la expresión anterior es exacta en tanto que la serie **no** sea truncada. En el caso de que la serie truncada a orden k, el [teorema de Taylor](https://en.wikipedia.org/wiki/Taylor%27s_theorem) asegura que el residuo (error del truncamiento) se puede escribir como:\n",
    "\n",
    "\\begin{equation}\n",
    "{\\cal R_{k}} = \\frac{f^{(k+1)}\\,(\\xi)}{(k+1)!} (x-x_0)^{k+1},\n",
    "\\end{equation}\n",
    "\n",
    "donde $\\xi$ es un punto que pertenece al interval $[x_0,x]$.\n"
   ]
  },
  {
   "cell_type": "markdown",
   "metadata": {
    "slideshow": {
     "slide_type": "subslide"
    }
   },
   "source": [
    "Si la serie es truncada, la aproximación es un polinomio de orden $k$ (grado máximo es $k$) en $x$. Dado que los polinomios en una variable están definidos por $k+1$ coeficientes, entonces pueden ser mapeados a vectores en $\\mathbb{R}^{k+1}$. \n",
    "\n",
    "Las operaciones aritméticas, en este caso, vienen dadas por:\n",
    "\n",
    "\\begin{eqnarray}\n",
    "(f+g)_{[k]} & = & f_{[k]} + g_{[k]} ,\\\\\n",
    "(f-g)_{[k]} & = & f_{[k]} - g_{[k]} ,\\\\\n",
    "(f \\cdot g)_{[k]} & = & \\sum_{i=0}^k f_{[i]} \\,g_{[k-i]} \\, ,\\\\\n",
    "\\Big(\\frac{f}{g}\\Big)_{[k]} & = & \\frac{1}{g_{[0]}}\n",
    "\\Big( f_{[k]} - \\sum_{i=0}^{k-1} \\big(\\frac{f}{g}\\big)_{[i]} \\, g_{[k-i]} \\Big) . \\\\\n",
    "\\end{eqnarray}"
   ]
  },
  {
   "cell_type": "markdown",
   "metadata": {
    "slideshow": {
     "slide_type": "slide"
    }
   },
   "source": [
    "### Ejercicio\n",
    "\n",
    "Implementen una nueva estructura paramétrica (`type`) que defina el tipo `Taylor`, donde el parámetro debe ser un subtipo de `Number`. Definan métodos que implementen las operaciones aritméticas básicas (`+`, `-`, `*`, `/`) y la igualdad (`==`). Esto deberá ser incluido en un módulo.\n",
    "\n",
    "Incluyan pruebas (en el archivo \"runtests.jl\") para cada uno de los métodos que implementen.\n"
   ]
  },
  {
   "cell_type": "code",
   "execution_count": 2,
   "metadata": {
    "collapsed": false
   },
   "outputs": [],
   "source": [
    "\"\"\"Definición de polinomios de Taylor, parametrizados por un subtipo de Number.\n",
    "\"\"\"\n",
    "type Taylor{T<:Number}\n",
    "    # código: \n",
    "    pol :: Array{T}\n",
    "end"
   ]
  },
  {
   "cell_type": "code",
   "execution_count": 3,
   "metadata": {
    "collapsed": false
   },
   "outputs": [
    {
     "data": {
      "text/plain": [
       "promote_rule (generic function with 125 methods)"
      ]
     },
     "execution_count": 3,
     "metadata": {},
     "output_type": "execute_result"
    }
   ],
   "source": [
    "import Base.convert\n",
    "import Base.promote_rule\n",
    "import Base.+\n",
    "\n",
    "convert{T<:Number}(::Type{Taylor{T}}, a::T) = Taylor(a)\n",
    "\n",
    "promote_rule{T<:Number, S<:Number}(::Type{Taylor{T}}, ::Type{S}) = Taylor{(promote_type)(T,S)}\n"
   ]
  },
  {
   "cell_type": "code",
   "execution_count": 4,
   "metadata": {
    "collapsed": false
   },
   "outputs": [
    {
     "name": "stderr",
     "output_type": "stream",
     "text": [
      "\n",
      "WARNING: deprecated syntax \"Taylor (\" at In[4]:1.\n",
      "Use \"Taylor(\" instead.\n"
     ]
    },
    {
     "data": {
      "text/plain": [
       "Taylor{T<:Number}"
      ]
     },
     "execution_count": 4,
     "metadata": {},
     "output_type": "execute_result"
    }
   ],
   "source": [
    "Taylor(a::Complex) = Taylor ([a])"
   ]
  },
  {
   "cell_type": "code",
   "execution_count": 5,
   "metadata": {
    "collapsed": false
   },
   "outputs": [
    {
     "data": {
      "text/plain": [
       "gradomax (generic function with 2 methods)"
      ]
     },
     "execution_count": 5,
     "metadata": {},
     "output_type": "execute_result"
    }
   ],
   "source": [
    "\"\"\"Definimos una función que te regresa el grado máximo entre polinomios de Taylor para permitir las operaciones entre polinomios.\n",
    "De igual manera saca el grado de un solo Taylor.\n",
    "\"\"\"\n",
    "function gradomax(a::Taylor,b::Taylor)\n",
    "    return max(length(a.pol),length(b.pol))\n",
    "end\n",
    "gradomax(a::Taylor) = length(a.pol)"
   ]
  },
  {
   "cell_type": "code",
   "execution_count": 6,
   "metadata": {
    "collapsed": false
   },
   "outputs": [
    {
     "data": {
      "text/plain": [
       "prom (generic function with 2 methods)"
      ]
     },
     "execution_count": 6,
     "metadata": {},
     "output_type": "execute_result"
    }
   ],
   "source": [
    "\"\"\"Aquí definimos una función que promueve dos polinomios a un grado común.\n",
    "\"\"\"\n",
    "function prom(a::Taylor,b::Taylor = a)\n",
    "    q = [a.pol; fill(0,gradomax(a,b)-gradomax(a))]\n",
    "    return Taylor(q)\n",
    "end"
   ]
  },
  {
   "cell_type": "code",
   "execution_count": 7,
   "metadata": {
    "collapsed": false
   },
   "outputs": [
    {
     "data": {
      "text/plain": [
       "Taylor{T<:Number}"
      ]
     },
     "execution_count": 7,
     "metadata": {},
     "output_type": "execute_result"
    }
   ],
   "source": [
    "# Polinomio de Taylor de una constante.\n",
    "\n",
    "Taylor(a::Number) = Taylor([a])"
   ]
  },
  {
   "cell_type": "code",
   "execution_count": 8,
   "metadata": {
    "collapsed": false,
    "scrolled": true
   },
   "outputs": [
    {
     "data": {
      "text/plain": [
       "== (generic function with 110 methods)"
      ]
     },
     "execution_count": 8,
     "metadata": {},
     "output_type": "execute_result"
    }
   ],
   "source": [
    "import Base: +, -, *, ^, /, ==\n",
    "\n",
    "# Aquí se implementan los métodos necesarios para la suma\n",
    "+(a::Taylor, b::Taylor) = Taylor(prom(a,b).pol+prom(b,a).pol)\n",
    "+(a::Taylor, k::Number) = a + Taylor(k)\n",
    "+(k::Number, a::Taylor) = a + Taylor(k)\n",
    "\n",
    "# Aquí los necesarios para la resta\n",
    "-(a::Taylor, b::Taylor) = Taylor(prom(a,b).pol-prom(b,a).pol)\n",
    "-(a::Taylor, k::Number) = a - Taylor(k)\n",
    "-(k::Number, a::Taylor) = Taylor(k) - a\n",
    "-(a::Taylor) = Taylor(-a.pol)\n",
    "\n",
    "# Para la multiplicación de polinomios se optó por definir explícitamente la función.\n",
    "function *(a::Taylor, b::Taylor)\n",
    "    n = gradomax(a)+ gradomax(b)-1;\n",
    "    r = Taylor(zeros(n));\n",
    "    \n",
    "    A = prom(a,r);\n",
    "    B = prom(b,r)\n",
    "    \n",
    "    for k = 0:n-1\n",
    "        suma = 0;\n",
    "        \n",
    "        for j = 0:k\n",
    "            suma += A.pol[j+1]*B.pol[k-j+1];\n",
    "        end\n",
    "        r.pol[k+1] = suma;\n",
    "\n",
    "    end\n",
    "    \n",
    "    return r\n",
    "end\n",
    "*(a::Taylor, k::Number) = Taylor(k*a.pol)\n",
    "*(k::Number, a::Taylor) = Taylor(k*a.pol)\n",
    "\n",
    "# Para la división se optó por un procedimiento similar.\n",
    "\n",
    "\n",
    "# Igualdad\n",
    "==(a::Taylor, b::Taylor) = a.pol == b.pol"
   ]
  },
  {
   "cell_type": "markdown",
   "metadata": {},
   "source": [
    "Para la división se optó por un procedimiento similar, pero se obtuvieron los términos de foma iterada. Se definió la función $h(x)=\\frac{f(x)}{g(x)}$. Con esto $f(x)=h(x)*g(x)$, por lo que ahora se puede escribir el polinomio de Taylor (truncado) de f en términos del producto de los de h y g. Esto está dado por \n",
    "\n",
    "\\begin{eqnarray}\n",
    "f_{[k]}& = &(h \\cdot g)_{[k]} & = & \\sum_{i=0}^k h_{[k-i]} \\,g_{[i]} \\, \\\\\n",
    "\\end{eqnarray}\n",
    "\n",
    "Para encontrar el primer término del polinomio de h, se separa la suma de la manera siguiente:\n",
    "\n",
    "\n",
    "\\begin{eqnarray}\n",
    "f_{[k]}& = &(h \\cdot g)_{[k]} & = & \\ g_{[s]}h_{[k-s]}\\ + \\sum_{i=s+1}^k h_{[k-i]} \\,g_{[i]} & \\implies & \n",
    "h_{[k-s]}=\\frac{1}{g_{[s]}}\\Big[f_{[k]}-\\sum_{i=s+1}^k h_{[k-i]} \\,g_{[i]}\\Big], \\\\\n",
    "\\end{eqnarray}\n",
    "\n",
    "donde $s$ es el índice el primer término no cero del polinomio de Taylor. \n",
    "\n",
    "Lo que optamos por hacer primero fue calcular $(1/g)_{[k]}$ y calcular $(f/g)_{[k]}$ a partir de eso."
   ]
  },
  {
   "cell_type": "code",
   "execution_count": 9,
   "metadata": {
    "collapsed": false
   },
   "outputs": [
    {
     "data": {
      "text/plain": [
       "/ (generic function with 52 methods)"
      ]
     },
     "execution_count": 9,
     "metadata": {},
     "output_type": "execute_result"
    }
   ],
   "source": [
    "function /(b::Real, a::Taylor)\n",
    "    \n",
    "    n = gradomax(a);\n",
    "\n",
    "    r = Taylor(zeros(n));\n",
    "    A = prom(a,r);\n",
    "\n",
    "    s = 1; # índice desde donde empezamos\n",
    "\n",
    "    if A.pol[s] == 0 # checamos si el primer término no es nulo\n",
    "        s += 1;\n",
    "    end\n",
    "\n",
    "    r.pol[1] = b/A.pol[s];\n",
    "\n",
    "    for k = s:n-1\n",
    "        suma = 0;\n",
    "        for j = 0:k-1\n",
    "            suma += r.pol[j+1]*A.pol[k-j+1]\n",
    "        end\n",
    "\n",
    "        r.pol[k+1] = (-suma)/A.pol[s];\n",
    "    end\n",
    "    return r\n",
    "end\n",
    "# Ahora definimos división entre estructuras de Taylor\n",
    "/(a::Taylor, b::Taylor) = a*(1/b)\n",
    "\n",
    "/(a::Taylor, k::Number) = Taylor(a.pol/k)\n",
    "/(k::Number, a::Taylor) = Taylor(k)/a"
   ]
  },
  {
   "cell_type": "code",
   "execution_count": 10,
   "metadata": {
    "collapsed": true,
    "slideshow": {
     "slide_type": "-"
    }
   },
   "outputs": [],
   "source": [
    "# Muestren que su código funciona con tests adecuados; para los detalles ver \n",
    "# http://julia.readthedocs.org/en/release-0.4/stdlib/test/\n",
    "using Base.Test\n"
   ]
  },
  {
   "cell_type": "markdown",
   "metadata": {
    "slideshow": {
     "slide_type": "slide"
    }
   },
   "source": [
    "# Funciones de polinomios"
   ]
  },
  {
   "cell_type": "markdown",
   "metadata": {},
   "source": [
    "El siguiente punto, es cómo definir funciones de polinomios. \n",
    "\n",
    "Como veremos aquí, esto se basará en plantear una ecuación diferencial apropiada, cuya solución es, precisamente, la expresión que estamos buscando. Este punto es *importante*, y muestra que hay una conexión importante con la solución de ecuaciones diferenciales."
   ]
  },
  {
   "cell_type": "markdown",
   "metadata": {
    "slideshow": {
     "slide_type": "subslide"
    }
   },
   "source": [
    "Como ejemplo consideraremos la función\n",
    "\n",
    "\\begin{equation}\n",
    "E(x) = \\exp\\big(g(x)\\big),\n",
    "\\end{equation}\n",
    "\n",
    "donde \n",
    "\n",
    "\\begin{equation}\n",
    "g(x) = \\sum_{k=0}^\\infty g_{[k]} (x-x_0)^k\n",
    "\\end{equation}\n",
    "\n",
    "está escrita como una serie de Taylor (¡exacta!) alrededor de $x_0$. \n"
   ]
  },
  {
   "cell_type": "markdown",
   "metadata": {},
   "source": [
    "El primer punto, es que escribiremos a $E(x)$ como una serie de Taylor alrededor de $x_0$, es decir,\n",
    "\n",
    "\\begin{equation}\n",
    "E(x) = \\sum_{k=0}^\\infty E_{[k]} (x-x_0)^k.\n",
    "\\end{equation}\n",
    "\n",
    "El objetivo es determinar $E_{[k]}$ para *toda* $k$.\n",
    "\n",
    "Dado que $E(x)$ esun polinomio en $x$, su derivada viene dada por\n",
    "\n",
    "\\begin{equation}\n",
    "\\frac{{\\rm d} E(x)}{{\\rm d}x} = \\sum_{k=1}^\\infty k E_{[k]}\\, (x-x_0)^{k-1} .\n",
    "\\end{equation}"
   ]
  },
  {
   "cell_type": "markdown",
   "metadata": {},
   "source": [
    "Por otra parte, la derivada de $E(x)$ en términos de $g(x)$ está dada por\n",
    "\n",
    "\\begin{equation}\n",
    "\\frac{{\\rm d} E(x)}{{\\rm d}x} = \\exp\\big(g(x)\\big) \\frac{{\\rm d} g(x)}{{\\rm d}x} = E(x) \\frac{{\\rm d} g(x)}{{\\rm d}x},\n",
    "\\end{equation}\n",
    "\n",
    "donde del lado derecho aparece la derivada de $g(x)$. Ya que $g(x)$ *también* está escrita en forma polinomial, su derivada es\n",
    "\n",
    "\\begin{equation}\n",
    "\\frac{{\\rm d} g(x)}{{\\rm d}x} = \\sum_{k=1}^\\infty k g_{[k]}\\, (x-x_0)^{k-1} .\n",
    "\\end{equation}\n"
   ]
  },
  {
   "cell_type": "markdown",
   "metadata": {
    "slideshow": {
     "slide_type": "subslide"
    }
   },
   "source": [
    "Tenemos, entonces, todo lo que requerimos para escribir el lado derecho de la ecuación diferencial y explotar la aritmética de polinomios. \n",
    "\n",
    "\\begin{eqnarray}\n",
    "E(x) \\frac{{\\rm d} g(x)}{{\\rm d}x}& = & \n",
    "\\Big[ \\sum_{k=0}^\\infty E_{[k]} (x-x_0)^k \\Big]\n",
    "\\Big[ \\sum_{j=1}^\\infty j g_{[j]} (x-x_0)^{j-1}\\Big] \\\\\n",
    " & = & \\sum_{k=1}^\\infty \\Big[ \\sum_{j=0}^k j g_{[j]} E_{[k-j]} \\; \\Big] (x-x_0)^{k-1} .\\\\\n",
    "\\end{eqnarray}\n",
    "\n",
    "La segunda línea se obtiene reordenando los términos al fijar la potencia de $(x-x_0)$, esto es, $k+j$ se toma como un nuevo índice ($k$), y el nuevo índice $j$ describe el índice del producto de los polinomios. (La potencia se deja de la forma $k-1$ ya que el lado izquierdo de la ecuación aparece así.)"
   ]
  },
  {
   "cell_type": "markdown",
   "metadata": {},
   "source": [
    "Igualando con el lado izquierdo de la ecuación diferencial, que sólo involucra a la derivada de $E(x)$, tenemos que se debe cumplir\n",
    "\n",
    "\\begin{equation}\n",
    "E_{[k]} = \\frac{1}{k} \\sum_{j=0}^k j g_{[j]} \\, E_{[k-j]} = \n",
    "\\frac{1}{k} \\sum_{j=0}^{k} (k-j) g_{[k-j]} \\, E_{[j]}, \\qquad k=1,2,\\dots,\n",
    "\\end{equation}\n",
    "\n",
    "incluyendo *la condición inicial*\n",
    "\n",
    "\\begin{equation}\n",
    "E_{[0]} = \\exp\\big(g(x_0)\\big).\n",
    "\\end{equation}\n",
    "\n",
    "Estas relaciones *de recurrencia* permiten calcular $\\exp\\big(g(x)\\big)$, para cualquier polinomio $g(x)$."
   ]
  },
  {
   "cell_type": "markdown",
   "metadata": {},
   "source": [
    "Para el caso concreto $g(x) = x$ alrededor de $x_0=0$, donde tenemos $g_{[j]} = \\delta_{j,1}$, obtenemos\n",
    "\n",
    "\\begin{eqnarray}\n",
    "E_{[0]} & = & 1,\\\\\n",
    "E_{[k]} & = & \\frac{1}{k} E_{[k-1]} = \\frac{1}{k(k-1)} E_{[k-2]} = \\dots = \\frac{1}{k!} E_{[0]} = \\frac{1}{k!}\\ ,\n",
    "\\end{eqnarray}\n",
    "\n",
    "que es el resultado bien conocido."
   ]
  },
  {
   "cell_type": "markdown",
   "metadata": {
    "slideshow": {
     "slide_type": "subslide"
    }
   },
   "source": [
    "### Ejercicio\n",
    "\n",
    "Obtengan las relaciones de recurrencia para las funciones $L(x) = \\log\\big(g(x)\\big)$, $P_\\alpha(x) = \\big(g(x)\\big)^\\alpha$, $S(x) = \\sin\\big(g(x)\\big)$, $C(x) = \\cos\\big(g(x)\\big)$ usando el mismo procedimiento que arriba. Implementen métodos adecuados para estas funciones en el módulo, actuando sobre estructuras `Taylor` e incluyan pruebas."
   ]
  },
  {
   "cell_type": "code",
   "execution_count": 11,
   "metadata": {
    "collapsed": false
   },
   "outputs": [
    {
     "data": {
      "text/plain": [
       "evaluar (generic function with 1 method)"
      ]
     },
     "execution_count": 11,
     "metadata": {},
     "output_type": "execute_result"
    }
   ],
   "source": [
    "\"\"\"Función que evalúa un Taylor en el punto x0 (debe ser cercano al punto alrededor del que se construye el polinomio de Taylor)\n",
    "\"\"\"\n",
    "function evaluar(a::Taylor,x0)\n",
    "    n = gradomax(a);\n",
    "    ex = :(0)\n",
    "    \n",
    "    for k = 1:n\n",
    "        ex = :($ex + $a.pol[$k]*$x0^$(k-1))\n",
    "    end\n",
    "    return eval(ex)\n",
    "end"
   ]
  },
  {
   "cell_type": "code",
   "execution_count": 24,
   "metadata": {
    "collapsed": false
   },
   "outputs": [
    {
     "data": {
      "text/plain": [
       "exp (generic function with 13 methods)"
      ]
     },
     "execution_count": 24,
     "metadata": {},
     "output_type": "execute_result"
    }
   ],
   "source": [
    "import Base: exp\n",
    "\n",
    "# Definimos el exponencial de una estructura de Taylor\n",
    "function exp(a::Taylor)\n",
    "    n = gradomax(a); # grado máximo\n",
    "    \n",
    "    exp_t = Taylor(zeros(n)); # prealocación de memoria\n",
    "    exp_t.pol[1] = exp(a.pol[1]); # definimos el primer elemento de la serie\n",
    "    \n",
    "    for k = 2:n\n",
    "        suma = 0;\n",
    "        for j = 1:k\n",
    "            suma += (k-j+1)*a.pol[k-j+1]*exp_t.pol[j];\n",
    "        end\n",
    "        exp_t.pol[k] = suma*(1/(k)); #aquí había un error pues es 1/k no 1/k-1\n",
    "    end\n",
    "    \n",
    "    return exp_t \n",
    "end"
   ]
  },
  {
   "cell_type": "markdown",
   "metadata": {},
   "source": [
    "Para el logaritmo hacemos un proceso similar. Tenemos a $g(x)$ dada por su expansión de Taylor alrededor de $x_0$, así:\n",
    "\n",
    "$$L(x) = log(g(x)) = \\sum_{k = 0}^{\\infty} L_k(x-x_0)^k$$\n",
    "$$ \\Rightarrow \\frac{d}{dx}L(x) = \\sum_{k = 1}^{\\infty} k L_k(x-x_0)^{k-1} = \\frac{1}{g(x)}\\frac{d}{dx}g(x) = \\frac{\\sum_{k = 1}^{\\infty} k g_k(x-x_0)^{k-1}}{\\sum_{l = 0}^{\\infty}g_l(x-x_0)^l}$$ de donde se puede obtener el k-ésimo término a partir de la relación de recurrencia para la división, con la condición de que $L_0 = log(g_0)$."
   ]
  },
  {
   "cell_type": "code",
   "execution_count": 13,
   "metadata": {
    "collapsed": false
   },
   "outputs": [
    {
     "data": {
      "text/plain": [
       "log (generic function with 20 methods)"
      ]
     },
     "execution_count": 13,
     "metadata": {},
     "output_type": "execute_result"
    }
   ],
   "source": [
    "import Base: log\n",
    "\n",
    "function log(a::Taylor)\n",
    "    n = gradomax(a); # grado máximo\n",
    "\n",
    "    L = Taylor(zeros(n));\n",
    "    L.pol[1] = log(a.pol[1]);\n",
    "\n",
    "    for k = 1:n-1\n",
    "        suma = 0;\n",
    "        for j = 1: k-1\n",
    "            suma += j*L.pol[j]*a.pol[k-j];\n",
    "        end\n",
    "        L.pol[k+1] = (1/a.pol[1])*(a.pol[k+1]-suma/k)\n",
    "    end\n",
    "    \n",
    "    return L\n",
    "end"
   ]
  },
  {
   "cell_type": "code",
   "execution_count": 14,
   "metadata": {
    "collapsed": false
   },
   "outputs": [
    {
     "data": {
      "text/plain": [
       "Taylor{Float64}([0.6931471805599453,-1.0])"
      ]
     },
     "execution_count": 14,
     "metadata": {},
     "output_type": "execute_result"
    }
   ],
   "source": [
    "a = Taylor([2,-2]);\n",
    "log(a)"
   ]
  },
  {
   "cell_type": "code",
   "execution_count": 15,
   "metadata": {
    "collapsed": false
   },
   "outputs": [],
   "source": [
    "# Definimos la potenciación de estructuras Taylor para exponentes enteros, con metaprogramming.\n",
    "#function ^(a::Taylor, n::Integer)\n",
    "#    ex = :(a)\n",
    " #   k = 1;\n",
    "  #  while k < n\n",
    "   #     ex = :($ex * a)\n",
    "    #    k += 1\n",
    "   # end\n",
    "    #return eval(ex)\n",
    "#end\n",
    "# Anoto esto porque esta función está mal definida, usaré por el momento\n",
    "#que puede hacerse ^ para enteros aunque mande warning al final, por \n",
    "#ejemplo checa con [1,1,1] y debería dar [1,2,3,2,1] pero da otra cosa"
   ]
  },
  {
   "cell_type": "code",
   "execution_count": 30,
   "metadata": {
    "collapsed": false
   },
   "outputs": [
    {
     "data": {
      "text/plain": [
       "Taylor{Float64}([1.0,2.0,3.0,2.0,1.0])"
      ]
     },
     "execution_count": 30,
     "metadata": {},
     "output_type": "execute_result"
    }
   ],
   "source": [
    "Taylor([1,1,1])^2 #ahora este si funciona, pero necesitamos definirlo bien\n",
    "#para que no haya ambigüedad porque así sólo no se puede implementar para\n",
    "#por ejemplo seno y coseno"
   ]
  },
  {
   "cell_type": "code",
   "execution_count": 26,
   "metadata": {
    "collapsed": false
   },
   "outputs": [
    {
     "data": {
      "text/plain": [
       "Taylor{Float64}([1.0,2.0,3.6666666666666665])"
      ]
     },
     "execution_count": 26,
     "metadata": {},
     "output_type": "execute_result"
    }
   ],
   "source": [
    "b = Taylor([1,2,1])\n",
    "exp(log(b)) #error y en general exp(b) no da lo deseado, se necesita de esto\n",
    "#para poder definir ^ correctamente para no enteros"
   ]
  },
  {
   "cell_type": "markdown",
   "metadata": {},
   "source": [
    "**NOTA** Los ejercicios de este notebook constituyen el contenido de la Tarea6."
   ]
  }
 ],
 "metadata": {
  "celltoolbar": "Slideshow",
  "kernelspec": {
   "display_name": "Julia 0.4.4-pre",
   "language": "julia",
   "name": "julia-0.4"
  },
  "language_info": {
   "file_extension": ".jl",
   "mimetype": "application/julia",
   "name": "julia",
   "version": "0.4.4"
  }
 },
 "nbformat": 4,
 "nbformat_minor": 0
}
